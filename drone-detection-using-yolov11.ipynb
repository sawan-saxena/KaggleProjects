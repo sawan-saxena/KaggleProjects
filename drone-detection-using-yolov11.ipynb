{
 "cells": [
  {
   "cell_type": "code",
   "execution_count": 1,
   "id": "f4cc727e",
   "metadata": {
    "_cell_guid": "b1076dfc-b9ad-4769-8c92-a6c4dae69d19",
    "_uuid": "8f2839f25d086af736a60e9eeb907d3b93b6e0e5",
    "execution": {
     "iopub.execute_input": "2025-06-18T08:48:17.968714Z",
     "iopub.status.busy": "2025-06-18T08:48:17.968278Z",
     "iopub.status.idle": "2025-06-18T08:48:46.563489Z",
     "shell.execute_reply": "2025-06-18T08:48:46.562351Z"
    },
    "papermill": {
     "duration": 28.6055,
     "end_time": "2025-06-18T08:48:46.565688",
     "exception": false,
     "start_time": "2025-06-18T08:48:17.960188",
     "status": "completed"
    },
    "tags": []
   },
   "outputs": [],
   "source": [
    "# This Python 3 environment comes with many helpful analytics libraries installed\n",
    "# It is defined by the kaggle/python Docker image: https://github.com/kaggle/docker-python\n",
    "# For example, here's several helpful packages to load\n",
    "\n",
    "import numpy as np # linear algebra\n",
    "import pandas as pd # data processing, CSV file I/O (e.g. pd.read_csv)\n",
    "\n",
    "# Input data files are available in the read-only \"../input/\" directory\n",
    "# For example, running this (by clicking run or pressing Shift+Enter) will list all files under the input directory\n",
    "\n",
    "import os\n",
    "for dirname, _, filenames in os.walk('/kaggle/input'):\n",
    "    for filename in filenames:\n",
    "        os.path.join(dirname, filename)\n",
    "\n",
    "# You can write up to 20GB to the current directory (/kaggle/working/) that gets preserved as output when you create a version using \"Save & Run All\" \n",
    "# You can also write temporary files to /kaggle/temp/, but they won't be saved outside of the current session"
   ]
  },
  {
   "cell_type": "markdown",
   "id": "589780a6",
   "metadata": {
    "papermill": {
     "duration": 0.005803,
     "end_time": "2025-06-18T08:48:46.578453",
     "exception": false,
     "start_time": "2025-06-18T08:48:46.572650",
     "status": "completed"
    },
    "tags": []
   },
   "source": [
    "# First Step: Loading Images"
   ]
  },
  {
   "cell_type": "markdown",
   "id": "cbd4e095",
   "metadata": {
    "papermill": {
     "duration": 0.005759,
     "end_time": "2025-06-18T08:48:46.590326",
     "exception": false,
     "start_time": "2025-06-18T08:48:46.584567",
     "status": "completed"
    },
    "tags": []
   },
   "source": [
    "## 1- images path:"
   ]
  },
  {
   "cell_type": "code",
   "execution_count": 2,
   "id": "189cd8c1",
   "metadata": {
    "execution": {
     "iopub.execute_input": "2025-06-18T08:48:46.605115Z",
     "iopub.status.busy": "2025-06-18T08:48:46.604622Z",
     "iopub.status.idle": "2025-06-18T08:48:46.608847Z",
     "shell.execute_reply": "2025-06-18T08:48:46.607847Z"
    },
    "papermill": {
     "duration": 0.013629,
     "end_time": "2025-06-18T08:48:46.610529",
     "exception": false,
     "start_time": "2025-06-18T08:48:46.596900",
     "status": "completed"
    },
    "tags": []
   },
   "outputs": [],
   "source": [
    "data_path = '/kaggle/input/drone-detection/tensorflow obj detection drone'"
   ]
  },
  {
   "cell_type": "code",
   "execution_count": 3,
   "id": "6fe15a32",
   "metadata": {
    "execution": {
     "iopub.execute_input": "2025-06-18T08:48:46.625671Z",
     "iopub.status.busy": "2025-06-18T08:48:46.625252Z",
     "iopub.status.idle": "2025-06-18T08:48:47.090567Z",
     "shell.execute_reply": "2025-06-18T08:48:47.089439Z"
    },
    "papermill": {
     "duration": 0.474386,
     "end_time": "2025-06-18T08:48:47.092520",
     "exception": false,
     "start_time": "2025-06-18T08:48:46.618134",
     "status": "completed"
    },
    "tags": []
   },
   "outputs": [],
   "source": [
    "import os\n",
    "import cv2"
   ]
  },
  {
   "cell_type": "markdown",
   "id": "96032ffc",
   "metadata": {
    "papermill": {
     "duration": 0.005667,
     "end_time": "2025-06-18T08:48:47.104460",
     "exception": false,
     "start_time": "2025-06-18T08:48:47.098793",
     "status": "completed"
    },
    "tags": []
   },
   "source": [
    "## 2- loading train Data"
   ]
  },
  {
   "cell_type": "code",
   "execution_count": 4,
   "id": "e5834161",
   "metadata": {
    "execution": {
     "iopub.execute_input": "2025-06-18T08:48:47.118045Z",
     "iopub.status.busy": "2025-06-18T08:48:47.117720Z",
     "iopub.status.idle": "2025-06-18T08:48:47.123797Z",
     "shell.execute_reply": "2025-06-18T08:48:47.122915Z"
    },
    "papermill": {
     "duration": 0.014672,
     "end_time": "2025-06-18T08:48:47.125290",
     "exception": false,
     "start_time": "2025-06-18T08:48:47.110618",
     "status": "completed"
    },
    "tags": []
   },
   "outputs": [],
   "source": [
    "def load_images_and_labels(folder_path, target_size=(256, 256)):\n",
    "    \n",
    "    images = []\n",
    "    labels = []\n",
    "\n",
    "    for filename in os.listdir(folder_path):\n",
    "        if filename.endswith(('.jpg', '.png', '.jpeg')):\n",
    "            label = filename.split('_')[1] \n",
    "            labels.append(label)\n",
    "            img_path = os.path.join(folder_path, filename)\n",
    "            img = cv2.imread(img_path)\n",
    "            if img is not None:\n",
    "                img_resized = cv2.resize(img, target_size)\n",
    "                images.append(img_resized)\n",
    "            else:\n",
    "                print(f\"Warning: Could not load image {filename}\")\n",
    "\n",
    "    return images, labels"
   ]
  },
  {
   "cell_type": "code",
   "execution_count": 5,
   "id": "ae44485a",
   "metadata": {
    "execution": {
     "iopub.execute_input": "2025-06-18T08:48:47.138870Z",
     "iopub.status.busy": "2025-06-18T08:48:47.138385Z",
     "iopub.status.idle": "2025-06-18T08:49:49.393396Z",
     "shell.execute_reply": "2025-06-18T08:49:49.392518Z"
    },
    "papermill": {
     "duration": 62.26364,
     "end_time": "2025-06-18T08:49:49.395226",
     "exception": false,
     "start_time": "2025-06-18T08:48:47.131586",
     "status": "completed"
    },
    "tags": []
   },
   "outputs": [],
   "source": [
    "train_folder =data_path + \"/train\"\n",
    "images, labels = load_images_and_labels(train_folder)"
   ]
  },
  {
   "cell_type": "code",
   "execution_count": 6,
   "id": "212223d5",
   "metadata": {
    "execution": {
     "iopub.execute_input": "2025-06-18T08:49:49.408961Z",
     "iopub.status.busy": "2025-06-18T08:49:49.408600Z",
     "iopub.status.idle": "2025-06-18T08:49:49.415213Z",
     "shell.execute_reply": "2025-06-18T08:49:49.414251Z"
    },
    "papermill": {
     "duration": 0.015302,
     "end_time": "2025-06-18T08:49:49.417026",
     "exception": false,
     "start_time": "2025-06-18T08:49:49.401724",
     "status": "completed"
    },
    "tags": []
   },
   "outputs": [
    {
     "data": {
      "text/plain": [
       "(10799, 10799)"
      ]
     },
     "execution_count": 6,
     "metadata": {},
     "output_type": "execute_result"
    }
   ],
   "source": [
    "len(images) , len(labels)"
   ]
  },
  {
   "cell_type": "code",
   "execution_count": 7,
   "id": "b6bcfe4e",
   "metadata": {
    "execution": {
     "iopub.execute_input": "2025-06-18T08:49:49.431551Z",
     "iopub.status.busy": "2025-06-18T08:49:49.431195Z",
     "iopub.status.idle": "2025-06-18T08:49:52.769208Z",
     "shell.execute_reply": "2025-06-18T08:49:52.768102Z"
    },
    "papermill": {
     "duration": 3.347412,
     "end_time": "2025-06-18T08:49:52.771328",
     "exception": false,
     "start_time": "2025-06-18T08:49:49.423916",
     "status": "completed"
    },
    "tags": []
   },
   "outputs": [],
   "source": [
    "valid_folder = data_path + '/valid'\n",
    "valid_images , valid_labels = load_images_and_labels(valid_folder)"
   ]
  },
  {
   "cell_type": "code",
   "execution_count": 8,
   "id": "af1d3393",
   "metadata": {
    "execution": {
     "iopub.execute_input": "2025-06-18T08:49:52.786073Z",
     "iopub.status.busy": "2025-06-18T08:49:52.785689Z",
     "iopub.status.idle": "2025-06-18T08:49:52.791420Z",
     "shell.execute_reply": "2025-06-18T08:49:52.790353Z"
    },
    "papermill": {
     "duration": 0.014827,
     "end_time": "2025-06-18T08:49:52.793067",
     "exception": false,
     "start_time": "2025-06-18T08:49:52.778240",
     "status": "completed"
    },
    "tags": []
   },
   "outputs": [
    {
     "data": {
      "text/plain": [
       "(603, 603)"
      ]
     },
     "execution_count": 8,
     "metadata": {},
     "output_type": "execute_result"
    }
   ],
   "source": [
    "len(valid_images) , len(valid_labels)"
   ]
  },
  {
   "cell_type": "markdown",
   "id": "b7e2e7fc",
   "metadata": {
    "papermill": {
     "duration": 0.007289,
     "end_time": "2025-06-18T08:49:52.806908",
     "exception": false,
     "start_time": "2025-06-18T08:49:52.799619",
     "status": "completed"
    },
    "tags": []
   },
   "source": [
    "# Data Normalization"
   ]
  },
  {
   "cell_type": "code",
   "execution_count": 9,
   "id": "1cbc206d",
   "metadata": {
    "execution": {
     "iopub.execute_input": "2025-06-18T08:49:52.821131Z",
     "iopub.status.busy": "2025-06-18T08:49:52.820737Z",
     "iopub.status.idle": "2025-06-18T08:49:52.825215Z",
     "shell.execute_reply": "2025-06-18T08:49:52.824041Z"
    },
    "papermill": {
     "duration": 0.013518,
     "end_time": "2025-06-18T08:49:52.826989",
     "exception": false,
     "start_time": "2025-06-18T08:49:52.813471",
     "status": "completed"
    },
    "tags": []
   },
   "outputs": [],
   "source": [
    "def normalize_images(images):\n",
    "    normalized_images = [img / 255.0 for img in images]\n",
    "    return normalized_images"
   ]
  },
  {
   "cell_type": "code",
   "execution_count": 10,
   "id": "80f0171e",
   "metadata": {
    "execution": {
     "iopub.execute_input": "2025-06-18T08:49:52.841124Z",
     "iopub.status.busy": "2025-06-18T08:49:52.840738Z",
     "iopub.status.idle": "2025-06-18T08:50:09.782692Z",
     "shell.execute_reply": "2025-06-18T08:50:09.781725Z"
    },
    "papermill": {
     "duration": 16.951213,
     "end_time": "2025-06-18T08:50:09.784764",
     "exception": false,
     "start_time": "2025-06-18T08:49:52.833551",
     "status": "completed"
    },
    "tags": []
   },
   "outputs": [],
   "source": [
    "normalized_images = normalize_images(images)"
   ]
  },
  {
   "cell_type": "code",
   "execution_count": 11,
   "id": "771130a9",
   "metadata": {
    "execution": {
     "iopub.execute_input": "2025-06-18T08:50:09.799215Z",
     "iopub.status.busy": "2025-06-18T08:50:09.798844Z",
     "iopub.status.idle": "2025-06-18T08:50:10.747143Z",
     "shell.execute_reply": "2025-06-18T08:50:10.745945Z"
    },
    "papermill": {
     "duration": 0.957733,
     "end_time": "2025-06-18T08:50:10.749020",
     "exception": false,
     "start_time": "2025-06-18T08:50:09.791287",
     "status": "completed"
    },
    "tags": []
   },
   "outputs": [],
   "source": [
    "normalized_images_valid = normalize_images(valid_images)"
   ]
  },
  {
   "cell_type": "markdown",
   "id": "57cd0820",
   "metadata": {
    "papermill": {
     "duration": 0.006021,
     "end_time": "2025-06-18T08:50:10.762467",
     "exception": false,
     "start_time": "2025-06-18T08:50:10.756446",
     "status": "completed"
    },
    "tags": []
   },
   "source": [
    "# Label Encoding"
   ]
  },
  {
   "cell_type": "code",
   "execution_count": 12,
   "id": "6f50a870",
   "metadata": {
    "execution": {
     "iopub.execute_input": "2025-06-18T08:50:10.776040Z",
     "iopub.status.busy": "2025-06-18T08:50:10.775682Z",
     "iopub.status.idle": "2025-06-18T08:50:22.016063Z",
     "shell.execute_reply": "2025-06-18T08:50:22.015090Z"
    },
    "papermill": {
     "duration": 11.249381,
     "end_time": "2025-06-18T08:50:22.018029",
     "exception": false,
     "start_time": "2025-06-18T08:50:10.768648",
     "status": "completed"
    },
    "tags": []
   },
   "outputs": [],
   "source": [
    "from sklearn.preprocessing import LabelEncoder\n",
    "from tensorflow.keras.utils import to_categorical"
   ]
  },
  {
   "cell_type": "code",
   "execution_count": 13,
   "id": "0e905fae",
   "metadata": {
    "execution": {
     "iopub.execute_input": "2025-06-18T08:50:22.032217Z",
     "iopub.status.busy": "2025-06-18T08:50:22.031582Z",
     "iopub.status.idle": "2025-06-18T08:50:22.044368Z",
     "shell.execute_reply": "2025-06-18T08:50:22.043346Z"
    },
    "papermill": {
     "duration": 0.021824,
     "end_time": "2025-06-18T08:50:22.046213",
     "exception": false,
     "start_time": "2025-06-18T08:50:22.024389",
     "status": "completed"
    },
    "tags": []
   },
   "outputs": [],
   "source": [
    "label_encoder = LabelEncoder()\n",
    "y_train_encoded = label_encoder.fit_transform(labels)\n",
    "y_val_encoded = label_encoder.transform(valid_labels)\n",
    "\n",
    "y_train_one_hot = to_categorical(y_train_encoded)\n",
    "y_val_one_hot = to_categorical(y_val_encoded)"
   ]
  },
  {
   "cell_type": "markdown",
   "id": "a5213d7e",
   "metadata": {
    "papermill": {
     "duration": 0.006107,
     "end_time": "2025-06-18T08:50:22.058861",
     "exception": false,
     "start_time": "2025-06-18T08:50:22.052754",
     "status": "completed"
    },
    "tags": []
   },
   "source": [
    "# Building a model"
   ]
  },
  {
   "cell_type": "code",
   "execution_count": 14,
   "id": "9c8c07a6",
   "metadata": {
    "execution": {
     "iopub.execute_input": "2025-06-18T08:50:22.072754Z",
     "iopub.status.busy": "2025-06-18T08:50:22.072339Z",
     "iopub.status.idle": "2025-06-18T08:50:22.081287Z",
     "shell.execute_reply": "2025-06-18T08:50:22.080367Z"
    },
    "papermill": {
     "duration": 0.017852,
     "end_time": "2025-06-18T08:50:22.083052",
     "exception": false,
     "start_time": "2025-06-18T08:50:22.065200",
     "status": "completed"
    },
    "tags": []
   },
   "outputs": [],
   "source": [
    "from tensorflow.keras.models import Sequential\n",
    "from tensorflow.keras.layers import Conv2D, MaxPooling2D, Flatten, Dense, Dropout\n",
    "from tensorflow.keras.optimizers import Adamax"
   ]
  },
  {
   "cell_type": "code",
   "execution_count": 15,
   "id": "e53d307b",
   "metadata": {
    "execution": {
     "iopub.execute_input": "2025-06-18T08:50:22.097980Z",
     "iopub.status.busy": "2025-06-18T08:50:22.097645Z",
     "iopub.status.idle": "2025-06-18T08:50:22.476456Z",
     "shell.execute_reply": "2025-06-18T08:50:22.475377Z"
    },
    "papermill": {
     "duration": 0.388419,
     "end_time": "2025-06-18T08:50:22.478463",
     "exception": false,
     "start_time": "2025-06-18T08:50:22.090044",
     "status": "completed"
    },
    "tags": []
   },
   "outputs": [
    {
     "name": "stderr",
     "output_type": "stream",
     "text": [
      "/usr/local/lib/python3.10/dist-packages/keras/src/layers/convolutional/base_conv.py:107: UserWarning: Do not pass an `input_shape`/`input_dim` argument to a layer. When using Sequential models, prefer using an `Input(shape)` object as the first layer in the model instead.\n",
      "  super().__init__(activity_regularizer=activity_regularizer, **kwargs)\n"
     ]
    }
   ],
   "source": [
    "model = Sequential([\n",
    "    Conv2D(32, (3, 3), activation='relu', input_shape=(256, 256, 3)),\n",
    "    MaxPooling2D((2, 2)),\n",
    "    Conv2D(64, (3, 3), activation='relu'),\n",
    "    MaxPooling2D((2, 2)),\n",
    "    Flatten(),\n",
    "    Dense(128, activation='relu'),\n",
    "    Dropout(0.5),\n",
    "    Dense(len(label_encoder.classes_), activation='softmax')\n",
    "])"
   ]
  },
  {
   "cell_type": "code",
   "execution_count": 16,
   "id": "16cf87db",
   "metadata": {
    "execution": {
     "iopub.execute_input": "2025-06-18T08:50:22.492431Z",
     "iopub.status.busy": "2025-06-18T08:50:22.492053Z",
     "iopub.status.idle": "2025-06-18T08:50:22.508331Z",
     "shell.execute_reply": "2025-06-18T08:50:22.507359Z"
    },
    "papermill": {
     "duration": 0.025802,
     "end_time": "2025-06-18T08:50:22.510605",
     "exception": false,
     "start_time": "2025-06-18T08:50:22.484803",
     "status": "completed"
    },
    "tags": []
   },
   "outputs": [],
   "source": [
    "model.compile(optimizer=Adamax(learning_rate = 0.001), loss='categorical_crossentropy', metrics=['accuracy'])"
   ]
  },
  {
   "cell_type": "code",
   "execution_count": 17,
   "id": "603d7ce0",
   "metadata": {
    "execution": {
     "iopub.execute_input": "2025-06-18T08:50:22.524796Z",
     "iopub.status.busy": "2025-06-18T08:50:22.524320Z",
     "iopub.status.idle": "2025-06-18T08:50:22.528490Z",
     "shell.execute_reply": "2025-06-18T08:50:22.527643Z"
    },
    "papermill": {
     "duration": 0.01306,
     "end_time": "2025-06-18T08:50:22.530259",
     "exception": false,
     "start_time": "2025-06-18T08:50:22.517199",
     "status": "completed"
    },
    "tags": []
   },
   "outputs": [],
   "source": [
    "from tensorflow.keras.utils import Sequence"
   ]
  },
  {
   "cell_type": "code",
   "execution_count": 18,
   "id": "ff6d5d62",
   "metadata": {
    "execution": {
     "iopub.execute_input": "2025-06-18T08:50:22.544861Z",
     "iopub.status.busy": "2025-06-18T08:50:22.544429Z",
     "iopub.status.idle": "2025-06-18T08:50:22.550714Z",
     "shell.execute_reply": "2025-06-18T08:50:22.549584Z"
    },
    "papermill": {
     "duration": 0.015627,
     "end_time": "2025-06-18T08:50:22.552358",
     "exception": false,
     "start_time": "2025-06-18T08:50:22.536731",
     "status": "completed"
    },
    "tags": []
   },
   "outputs": [],
   "source": [
    "class DataGenerator(Sequence):\n",
    "    def __init__(self, images, labels, batch_size):\n",
    "        self.images = images\n",
    "        self.labels = labels\n",
    "        self.batch_size = batch_size\n",
    "\n",
    "    def __len__(self):\n",
    "        return int(np.ceil(len(self.images) / self.batch_size))\n",
    "\n",
    "    def __getitem__(self, idx):\n",
    "        batch_images = self.images[idx * self.batch_size:(idx + 1) * self.batch_size]\n",
    "        batch_labels = self.labels[idx * self.batch_size:(idx + 1) * self.batch_size]\n",
    "        batch_images = np.array(batch_images)\n",
    "        batch_labels = np.array(batch_labels)\n",
    "\n",
    "        return batch_images, batch_labels"
   ]
  },
  {
   "cell_type": "code",
   "execution_count": 19,
   "id": "5d50ae8d",
   "metadata": {
    "execution": {
     "iopub.execute_input": "2025-06-18T08:50:22.565981Z",
     "iopub.status.busy": "2025-06-18T08:50:22.565635Z",
     "iopub.status.idle": "2025-06-18T08:50:22.569995Z",
     "shell.execute_reply": "2025-06-18T08:50:22.569082Z"
    },
    "papermill": {
     "duration": 0.01276,
     "end_time": "2025-06-18T08:50:22.571387",
     "exception": false,
     "start_time": "2025-06-18T08:50:22.558627",
     "status": "completed"
    },
    "tags": []
   },
   "outputs": [],
   "source": [
    "train_generator = DataGenerator(normalized_images, y_train_one_hot, batch_size=32)"
   ]
  },
  {
   "cell_type": "code",
   "execution_count": 20,
   "id": "6442fcf8",
   "metadata": {
    "execution": {
     "iopub.execute_input": "2025-06-18T08:50:22.585245Z",
     "iopub.status.busy": "2025-06-18T08:50:22.584914Z",
     "iopub.status.idle": "2025-06-18T08:50:22.588962Z",
     "shell.execute_reply": "2025-06-18T08:50:22.588050Z"
    },
    "papermill": {
     "duration": 0.012577,
     "end_time": "2025-06-18T08:50:22.590477",
     "exception": false,
     "start_time": "2025-06-18T08:50:22.577900",
     "status": "completed"
    },
    "tags": []
   },
   "outputs": [],
   "source": [
    "val_generator = DataGenerator(normalized_images_valid, y_val_one_hot, batch_size=32)"
   ]
  },
  {
   "cell_type": "code",
   "execution_count": 21,
   "id": "7c01818a",
   "metadata": {
    "execution": {
     "iopub.execute_input": "2025-06-18T08:50:22.604243Z",
     "iopub.status.busy": "2025-06-18T08:50:22.603922Z",
     "iopub.status.idle": "2025-06-18T10:44:54.345262Z",
     "shell.execute_reply": "2025-06-18T10:44:54.342367Z"
    },
    "papermill": {
     "duration": 6871.750815,
     "end_time": "2025-06-18T10:44:54.347586",
     "exception": false,
     "start_time": "2025-06-18T08:50:22.596771",
     "status": "completed"
    },
    "tags": []
   },
   "outputs": [
    {
     "name": "stdout",
     "output_type": "stream",
     "text": [
      "Epoch 1/10\n"
     ]
    },
    {
     "name": "stderr",
     "output_type": "stream",
     "text": [
      "/usr/local/lib/python3.10/dist-packages/keras/src/trainers/data_adapters/py_dataset_adapter.py:121: UserWarning: Your `PyDataset` class should call `super().__init__(**kwargs)` in its constructor. `**kwargs` can include `workers`, `use_multiprocessing`, `max_queue_size`. Do not pass these arguments to `fit()`, as they will be ignored.\n",
      "  self._warn_if_super_not_called()\n"
     ]
    },
    {
     "name": "stdout",
     "output_type": "stream",
     "text": [
      "\u001b[1m338/338\u001b[0m \u001b[32m━━━━━━━━━━━━━━━━━━━━\u001b[0m\u001b[37m\u001b[0m \u001b[1m667s\u001b[0m 2s/step - accuracy: 0.5597 - loss: 1.5026 - val_accuracy: 0.8474 - val_loss: 0.4058\n",
      "Epoch 2/10\n",
      "\u001b[1m338/338\u001b[0m \u001b[32m━━━━━━━━━━━━━━━━━━━━\u001b[0m\u001b[37m\u001b[0m \u001b[1m698s\u001b[0m 2s/step - accuracy: 0.8145 - loss: 0.4421 - val_accuracy: 0.8789 - val_loss: 0.2997\n",
      "Epoch 3/10\n",
      "\u001b[1m338/338\u001b[0m \u001b[32m━━━━━━━━━━━━━━━━━━━━\u001b[0m\u001b[37m\u001b[0m \u001b[1m684s\u001b[0m 2s/step - accuracy: 0.8498 - loss: 0.3601 - val_accuracy: 0.8939 - val_loss: 0.2410\n",
      "Epoch 4/10\n",
      "\u001b[1m338/338\u001b[0m \u001b[32m━━━━━━━━━━━━━━━━━━━━\u001b[0m\u001b[37m\u001b[0m \u001b[1m738s\u001b[0m 2s/step - accuracy: 0.8872 - loss: 0.2773 - val_accuracy: 0.9071 - val_loss: 0.2091\n",
      "Epoch 5/10\n",
      "\u001b[1m338/338\u001b[0m \u001b[32m━━━━━━━━━━━━━━━━━━━━\u001b[0m\u001b[37m\u001b[0m \u001b[1m678s\u001b[0m 2s/step - accuracy: 0.8994 - loss: 0.2432 - val_accuracy: 0.9254 - val_loss: 0.1954\n",
      "Epoch 6/10\n",
      "\u001b[1m338/338\u001b[0m \u001b[32m━━━━━━━━━━━━━━━━━━━━\u001b[0m\u001b[37m\u001b[0m \u001b[1m679s\u001b[0m 2s/step - accuracy: 0.9115 - loss: 0.2115 - val_accuracy: 0.9370 - val_loss: 0.1887\n",
      "Epoch 7/10\n",
      "\u001b[1m338/338\u001b[0m \u001b[32m━━━━━━━━━━━━━━━━━━━━\u001b[0m\u001b[37m\u001b[0m \u001b[1m687s\u001b[0m 2s/step - accuracy: 0.9241 - loss: 0.1948 - val_accuracy: 0.9353 - val_loss: 0.1656\n",
      "Epoch 8/10\n",
      "\u001b[1m338/338\u001b[0m \u001b[32m━━━━━━━━━━━━━━━━━━━━\u001b[0m\u001b[37m\u001b[0m \u001b[1m676s\u001b[0m 2s/step - accuracy: 0.9249 - loss: 0.1725 - val_accuracy: 0.9502 - val_loss: 0.1392\n",
      "Epoch 9/10\n",
      "\u001b[1m338/338\u001b[0m \u001b[32m━━━━━━━━━━━━━━━━━━━━\u001b[0m\u001b[37m\u001b[0m \u001b[1m685s\u001b[0m 2s/step - accuracy: 0.9331 - loss: 0.1553 - val_accuracy: 0.9320 - val_loss: 0.1581\n",
      "Epoch 10/10\n",
      "\u001b[1m338/338\u001b[0m \u001b[32m━━━━━━━━━━━━━━━━━━━━\u001b[0m\u001b[37m\u001b[0m \u001b[1m679s\u001b[0m 2s/step - accuracy: 0.9447 - loss: 0.1371 - val_accuracy: 0.9569 - val_loss: 0.1251\n"
     ]
    },
    {
     "data": {
      "text/plain": [
       "<keras.src.callbacks.history.History at 0x79f4e3edc760>"
      ]
     },
     "execution_count": 21,
     "metadata": {},
     "output_type": "execute_result"
    }
   ],
   "source": [
    "model.fit(train_generator, validation_data=val_generator, epochs=10)"
   ]
  },
  {
   "cell_type": "markdown",
   "id": "416dffca",
   "metadata": {
    "papermill": {
     "duration": 0.203008,
     "end_time": "2025-06-18T10:44:54.756040",
     "exception": false,
     "start_time": "2025-06-18T10:44:54.553032",
     "status": "completed"
    },
    "tags": []
   },
   "source": [
    "# Test Data"
   ]
  },
  {
   "cell_type": "code",
   "execution_count": 22,
   "id": "897db088",
   "metadata": {
    "execution": {
     "iopub.execute_input": "2025-06-18T10:44:55.158885Z",
     "iopub.status.busy": "2025-06-18T10:44:55.158303Z",
     "iopub.status.idle": "2025-06-18T10:45:01.400269Z",
     "shell.execute_reply": "2025-06-18T10:45:01.399129Z"
    },
    "papermill": {
     "duration": 6.446606,
     "end_time": "2025-06-18T10:45:01.402234",
     "exception": false,
     "start_time": "2025-06-18T10:44:54.955628",
     "status": "completed"
    },
    "tags": []
   },
   "outputs": [],
   "source": [
    "test_folder = data_path + '/test'\n",
    "test_images , test_labels = load_images_and_labels(test_folder)"
   ]
  },
  {
   "cell_type": "code",
   "execution_count": 23,
   "id": "39c00d90",
   "metadata": {
    "execution": {
     "iopub.execute_input": "2025-06-18T10:45:01.810692Z",
     "iopub.status.busy": "2025-06-18T10:45:01.810238Z",
     "iopub.status.idle": "2025-06-18T10:45:02.664795Z",
     "shell.execute_reply": "2025-06-18T10:45:02.663694Z"
    },
    "papermill": {
     "duration": 1.058123,
     "end_time": "2025-06-18T10:45:02.666718",
     "exception": false,
     "start_time": "2025-06-18T10:45:01.608595",
     "status": "completed"
    },
    "tags": []
   },
   "outputs": [],
   "source": [
    "normalized_images_test = normalize_images(test_images)"
   ]
  },
  {
   "cell_type": "code",
   "execution_count": 24,
   "id": "1c322b04",
   "metadata": {
    "execution": {
     "iopub.execute_input": "2025-06-18T10:45:03.153174Z",
     "iopub.status.busy": "2025-06-18T10:45:03.152820Z",
     "iopub.status.idle": "2025-06-18T10:45:03.162124Z",
     "shell.execute_reply": "2025-06-18T10:45:03.161201Z"
    },
    "papermill": {
     "duration": 0.216142,
     "end_time": "2025-06-18T10:45:03.163919",
     "exception": false,
     "start_time": "2025-06-18T10:45:02.947777",
     "status": "completed"
    },
    "tags": []
   },
   "outputs": [],
   "source": [
    "y_test_encoded = label_encoder.transform(test_labels)\n",
    "y_test_one_hot = to_categorical(y_test_encoded)"
   ]
  },
  {
   "cell_type": "code",
   "execution_count": 25,
   "id": "1ecee8cc",
   "metadata": {
    "execution": {
     "iopub.execute_input": "2025-06-18T10:45:03.572741Z",
     "iopub.status.busy": "2025-06-18T10:45:03.572342Z",
     "iopub.status.idle": "2025-06-18T10:45:03.576915Z",
     "shell.execute_reply": "2025-06-18T10:45:03.575756Z"
    },
    "papermill": {
     "duration": 0.213615,
     "end_time": "2025-06-18T10:45:03.578674",
     "exception": false,
     "start_time": "2025-06-18T10:45:03.365059",
     "status": "completed"
    },
    "tags": []
   },
   "outputs": [],
   "source": [
    "test_generator = DataGenerator(normalized_images_test, y_test_one_hot, batch_size=32)"
   ]
  },
  {
   "cell_type": "code",
   "execution_count": 26,
   "id": "660fcaa9",
   "metadata": {
    "execution": {
     "iopub.execute_input": "2025-06-18T10:45:03.984461Z",
     "iopub.status.busy": "2025-06-18T10:45:03.984097Z",
     "iopub.status.idle": "2025-06-18T10:45:14.358357Z",
     "shell.execute_reply": "2025-06-18T10:45:14.357099Z"
    },
    "papermill": {
     "duration": 10.580301,
     "end_time": "2025-06-18T10:45:14.360393",
     "exception": false,
     "start_time": "2025-06-18T10:45:03.780092",
     "status": "completed"
    },
    "tags": []
   },
   "outputs": [
    {
     "name": "stderr",
     "output_type": "stream",
     "text": [
      "/usr/local/lib/python3.10/dist-packages/keras/src/trainers/data_adapters/py_dataset_adapter.py:121: UserWarning: Your `PyDataset` class should call `super().__init__(**kwargs)` in its constructor. `**kwargs` can include `workers`, `use_multiprocessing`, `max_queue_size`. Do not pass these arguments to `fit()`, as they will be ignored.\n",
      "  self._warn_if_super_not_called()\n"
     ]
    },
    {
     "name": "stdout",
     "output_type": "stream",
     "text": [
      "\u001b[1m19/19\u001b[0m \u001b[32m━━━━━━━━━━━━━━━━━━━━\u001b[0m\u001b[37m\u001b[0m \u001b[1m10s\u001b[0m 505ms/step - accuracy: 0.9730 - loss: 0.0833\n",
      "Test Accuracy: 0.95\n"
     ]
    }
   ],
   "source": [
    "test_loss, test_accuracy = model.evaluate(test_generator)\n",
    "print(f\"Test Accuracy: {test_accuracy:.2f}\")"
   ]
  },
  {
   "cell_type": "markdown",
   "id": "c60bb266",
   "metadata": {
    "papermill": {
     "duration": 0.205923,
     "end_time": "2025-06-18T10:45:14.771989",
     "exception": false,
     "start_time": "2025-06-18T10:45:14.566066",
     "status": "completed"
    },
    "tags": []
   },
   "source": [
    "## this model is for basic classification"
   ]
  }
 ],
 "metadata": {
  "kaggle": {
   "accelerator": "none",
   "dataSources": [
    {
     "datasetId": 6079696,
     "sourceId": 10017073,
     "sourceType": "datasetVersion"
    }
   ],
   "dockerImageVersionId": 30823,
   "isGpuEnabled": false,
   "isInternetEnabled": true,
   "language": "python",
   "sourceType": "notebook"
  },
  "kernelspec": {
   "display_name": "Python 3",
   "language": "python",
   "name": "python3"
  },
  "language_info": {
   "codemirror_mode": {
    "name": "ipython",
    "version": 3
   },
   "file_extension": ".py",
   "mimetype": "text/x-python",
   "name": "python",
   "nbconvert_exporter": "python",
   "pygments_lexer": "ipython3",
   "version": "3.10.12"
  },
  "papermill": {
   "default_parameters": {},
   "duration": 7025.455958,
   "end_time": "2025-06-18T10:45:20.416071",
   "environment_variables": {},
   "exception": null,
   "input_path": "__notebook__.ipynb",
   "output_path": "__notebook__.ipynb",
   "parameters": {},
   "start_time": "2025-06-18T08:48:14.960113",
   "version": "2.6.0"
  }
 },
 "nbformat": 4,
 "nbformat_minor": 5
}
